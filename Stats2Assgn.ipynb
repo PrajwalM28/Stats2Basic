{
 "cells": [
  {
   "cell_type": "markdown",
   "id": "e6e80c84-efcf-4369-9c71-3506788e05dd",
   "metadata": {},
   "source": [
    "# Q1."
   ]
  },
  {
   "cell_type": "markdown",
   "id": "75f5678a-6b6e-4961-9c25-f14d8afc2797",
   "metadata": {},
   "source": [
    "Three measures of Central Tendency are : \n",
    "\n",
    "\n",
    "    - Mean , Median and Mode."
   ]
  },
  {
   "cell_type": "markdown",
   "id": "0f44dd0a-be67-4326-9ac1-e493990a14e5",
   "metadata": {},
   "source": [
    "# Q2."
   ]
  },
  {
   "cell_type": "markdown",
   "id": "d5c61783-b958-434f-9cc9-72e3c99718a1",
   "metadata": {},
   "source": [
    "Mean : \n",
    "\n",
    "\n",
    "    - is calculated by adding up all the values in a dataset and then dividing by the number of values.\n",
    "    \n",
    "    - It is useful when the data is roughly symmetric and does not have extreme values that could skew the result.\n",
    "    \n",
    "Median :\n",
    "\n",
    "\n",
    "    - The median is the middle value of a dataset when it is ordered from least to greatest. \n",
    "    \n",
    "    - The median is useful when the dataset has extreme values \n",
    "    \n",
    "    \n",
    "Mode : \n",
    "\n",
    "\n",
    "    - The mode is the value that appears most frequently in a dataset. \n",
    "    \n",
    "    - The mode is useful for categorical data or when identifying the most common value is important."
   ]
  },
  {
   "cell_type": "markdown",
   "id": "6dd5cc44-93b7-48f7-a52b-ae0c0c6b64ef",
   "metadata": {},
   "source": [
    "# Q3."
   ]
  },
  {
   "cell_type": "code",
   "execution_count": 1,
   "id": "18f7e219-dd2a-4bf4-94f9-2164aedd61b4",
   "metadata": {},
   "outputs": [],
   "source": [
    "height = [178,177,176,177,178.2,178,175,179,180,175,178.9,176.2,177,172.5,178,176.5]"
   ]
  },
  {
   "cell_type": "code",
   "execution_count": 2,
   "id": "3fbb780d-fef4-48f8-bcba-1bd6594b8f72",
   "metadata": {},
   "outputs": [
    {
     "data": {
      "text/plain": [
       "177.01875"
      ]
     },
     "execution_count": 2,
     "metadata": {},
     "output_type": "execute_result"
    }
   ],
   "source": [
    "import numpy as np\n",
    "np.mean(height)"
   ]
  },
  {
   "cell_type": "code",
   "execution_count": 3,
   "id": "cfdc7ffb-47ac-43dd-8eff-db5040b73f0f",
   "metadata": {},
   "outputs": [
    {
     "data": {
      "text/plain": [
       "177.0"
      ]
     },
     "execution_count": 3,
     "metadata": {},
     "output_type": "execute_result"
    }
   ],
   "source": [
    "np.median(height)"
   ]
  },
  {
   "cell_type": "code",
   "execution_count": 4,
   "id": "c164db65-3a18-41e9-a51f-f2dc008f533b",
   "metadata": {},
   "outputs": [],
   "source": [
    "import statistics"
   ]
  },
  {
   "cell_type": "code",
   "execution_count": 5,
   "id": "56e4fb39-9735-480d-ac0a-8b52f91b47f2",
   "metadata": {},
   "outputs": [
    {
     "data": {
      "text/plain": [
       "178"
      ]
     },
     "execution_count": 5,
     "metadata": {},
     "output_type": "execute_result"
    }
   ],
   "source": [
    "statistics.mode(height)"
   ]
  },
  {
   "cell_type": "markdown",
   "id": "6ed16a0a-9820-476a-bf24-080a980c0100",
   "metadata": {},
   "source": [
    "# Q4."
   ]
  },
  {
   "cell_type": "code",
   "execution_count": 6,
   "id": "b2e7a775-2fd6-4dff-91cf-1f71002685d8",
   "metadata": {},
   "outputs": [
    {
     "data": {
      "text/plain": [
       "1.7885814036548633"
      ]
     },
     "execution_count": 6,
     "metadata": {},
     "output_type": "execute_result"
    }
   ],
   "source": [
    "data = [178,177,176,177,178.2,178,175,179,180,175,178.9,176.2,177,172.5,178,176.5]\n",
    "np.std(data)"
   ]
  },
  {
   "cell_type": "markdown",
   "id": "793cddc1-eb80-48a8-ab09-7dbf2b2eb777",
   "metadata": {},
   "source": [
    "# Q5."
   ]
  },
  {
   "cell_type": "markdown",
   "id": "9b0ddc50-06e6-460f-8ef6-f56821336e95",
   "metadata": {},
   "source": [
    "Range : \n",
    "    \n",
    "    - Range = Maximum Value - Minimum Value\n",
    "    \n",
    "    -  Consider the following dataset of exam scores - {60, 70, 75, 80, 90}. The range is 90  - 60 = 30.\n",
    "    \n",
    "Variance : \n",
    "    \n",
    "    - Variance measures the average squared deviation of each data point from the mean of the dataset.\n",
    "    \n",
    "    -  Using the exam scores dataset {60, 70, 75, 80, 90}, suppose the mean is calculated to be 75. The variance would be  130.\n",
    "    \n",
    "\n",
    "Standard Deviation : \n",
    "    \n",
    "    \n",
    "    - The standard deviation is the square root of the variance. \n",
    "    \n",
    "    -  Using the variance example, the standard deviation would be 11.40."
   ]
  },
  {
   "cell_type": "markdown",
   "id": "d13d2933-b7fb-46f1-b568-48dbd3a70e73",
   "metadata": {},
   "source": [
    "# Q6."
   ]
  },
  {
   "cell_type": "markdown",
   "id": "305a2c9f-f696-4cb4-8bdd-f69c37d942ca",
   "metadata": {},
   "source": [
    "\n",
    "A Venn diagram is a visual representation that illustrates the relationships between sets. It consists of overlapping circles, each representing a specific set, and the overlapping areas represent the elements that are common to those sets. "
   ]
  },
  {
   "cell_type": "markdown",
   "id": "ecd7b96e-0db7-42e5-9665-3bf275a70685",
   "metadata": {},
   "source": [
    "# Q7."
   ]
  },
  {
   "cell_type": "markdown",
   "id": "e88fc44b-c068-436a-ae7b-67a4346d4812",
   "metadata": {},
   "source": [
    "i = {2}\n",
    "\n",
    "ii = {0,2,3,4,5,6,7,8,10}"
   ]
  },
  {
   "cell_type": "markdown",
   "id": "e5155b25-5a4c-4901-bd35-01279a979b2c",
   "metadata": {},
   "source": [
    "# Q8."
   ]
  },
  {
   "cell_type": "markdown",
   "id": "83905e5b-3382-459a-a03b-e9191e8ae64d",
   "metadata": {},
   "source": [
    "\n",
    "Skewness is a statistical measure that describes the asymmetry or lack of symmetry in a distribution of data."
   ]
  },
  {
   "cell_type": "markdown",
   "id": "852f6b89-d2e5-45e8-ab94-c0247c115f83",
   "metadata": {},
   "source": [
    "# Q9."
   ]
  },
  {
   "cell_type": "markdown",
   "id": "991a8fe1-b9a4-400e-9960-3b47140e4845",
   "metadata": {},
   "source": [
    "Mean > Median."
   ]
  },
  {
   "cell_type": "markdown",
   "id": "00f9036f-23e7-4b5c-b082-15f9c7d1be77",
   "metadata": {},
   "source": [
    "# Q10."
   ]
  },
  {
   "cell_type": "markdown",
   "id": "1f10c3a9-8f54-43a9-8901-b10ad7868eab",
   "metadata": {},
   "source": [
    "Covariance : \n",
    "\n",
    "\n",
    "    - Covariance is a measure of how much two variables change together. It indicates the direction of the linear relationship between variables, whether positive or negative.\n",
    "    \n",
    "    - Covariance is used to understand the direction of the relationship between two variables.\n",
    "    \n",
    "    \n",
    "Correlation : \n",
    "\n",
    "\n",
    "    - Correlation is a standardized measure that indicates the strength and direction of a linear relationship between two variables. \n",
    "    \n",
    "    - Correlation is widely used because it provides a standardized measure that is independent of the scale of the variables."
   ]
  },
  {
   "cell_type": "markdown",
   "id": "00e63380-57fc-421f-af07-be18599cdc70",
   "metadata": {},
   "source": [
    "# Q11."
   ]
  },
  {
   "cell_type": "markdown",
   "id": "ec178c56-eea5-4b35-85c0-4ddee89ab99d",
   "metadata": {},
   "source": [
    "summation of x(i) / n from i = 1 to n\n",
    "\n",
    "\n",
    "Eg : \n",
    "   - exam scores: {80, 75, 90, 85, 88}. \n",
    "   \n",
    "   \n",
    "   Using the formula , we get sample mean as 83.6."
   ]
  },
  {
   "cell_type": "markdown",
   "id": "48db17ee-74ca-4884-afa5-0b27966b4608",
   "metadata": {},
   "source": [
    "# Q12."
   ]
  },
  {
   "cell_type": "markdown",
   "id": "14756e5a-7a07-4b4d-b6dc-87c221e65ae3",
   "metadata": {},
   "source": [
    "Mean = Median = Mode. All are perfectly at the centre."
   ]
  },
  {
   "cell_type": "markdown",
   "id": "d4e6c162-1d10-4c23-9cc6-8e57ee6ef07b",
   "metadata": {},
   "source": [
    "# Q13."
   ]
  },
  {
   "cell_type": "markdown",
   "id": "c922e66b-e131-45b7-90d9-c4d1f0cac1c5",
   "metadata": {},
   "source": [
    "They both differ in their calculation , interpretation and scale."
   ]
  },
  {
   "cell_type": "markdown",
   "id": "3f77316f-f988-4449-9ff9-7cf3ddf76cf4",
   "metadata": {},
   "source": [
    "# Q14."
   ]
  },
  {
   "cell_type": "markdown",
   "id": "0e74ffb4-8cfb-4513-98fe-7b98d7b67486",
   "metadata": {},
   "source": [
    " Central tendency measures, such as the mean, are particularly sensitive to outliers, while dispersion measures, such as the range, variance, and standard deviation, can be influenced by the presence of extreme values.\n",
    " \n",
    " \n",
    "Eg : \n",
    "  - exam scores: {75, 80, 85, 90, 95, 200}. The majority of scores fall in the range of 75 to 95, but there is one extreme outlier (200).\n",
    "  \n",
    "  \n",
    "  \n",
    "  - By calculating mean , we get 104.17\n",
    "  - Median , which is 87.5 \n",
    "  \n",
    "  - Clearly says that median is less affected by the extreme value when compared to mean.\n",
    "  \n",
    "  \n",
    "Dispersion : \n",
    " \n",
    "  Eg : dataset {10, 15, 20, 25, 30, 100}. The majority of values are between 10 and 30, but the outlier (100) significantly influences measures of dispersion.\n",
    "  \n",
    "  - Range = 100−10 = 90\n",
    "\n",
    "\n",
    "  - The range is larger due to the presence of the outlier.\n",
    "\n",
    "\n",
    "\n",
    "   -  Using the formula for variance and standard deviation, you will find that these measures are also larger because the squared differences from the mean are larger with the outlier."
   ]
  }
 ],
 "metadata": {
  "kernelspec": {
   "display_name": "Python 3 (ipykernel)",
   "language": "python",
   "name": "python3"
  },
  "language_info": {
   "codemirror_mode": {
    "name": "ipython",
    "version": 3
   },
   "file_extension": ".py",
   "mimetype": "text/x-python",
   "name": "python",
   "nbconvert_exporter": "python",
   "pygments_lexer": "ipython3",
   "version": "3.10.8"
  }
 },
 "nbformat": 4,
 "nbformat_minor": 5
}
